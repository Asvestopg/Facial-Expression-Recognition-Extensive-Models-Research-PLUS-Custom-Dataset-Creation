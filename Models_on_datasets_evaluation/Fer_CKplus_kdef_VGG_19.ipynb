{
 "cells": [
  {
   "cell_type": "code",
   "execution_count": 31,
   "id": "a04868a1",
   "metadata": {},
   "outputs": [],
   "source": [
    "from tensorflow.keras.layers import Input, Lambda, Dense, Flatten,Dropout\n",
    "from tensorflow.keras.models import Model\n",
    "from tensorflow.keras.applications.vgg19 import VGG19\n",
    "from tensorflow.keras.applications.vgg19 import preprocess_input\n",
    "from tensorflow.keras.preprocessing import image\n",
    "from tensorflow.keras.preprocessing.image import ImageDataGenerator\n",
    "from tensorflow.keras.models import Sequential\n",
    "import numpy as np\n",
    "import pandas as pd\n",
    "import os\n",
    "import cv2\n",
    "import matplotlib.pyplot as plt\n",
    "import tensorflow as tf"
   ]
  },
  {
   "cell_type": "code",
   "execution_count": 32,
   "id": "75b682ba",
   "metadata": {},
   "outputs": [
    {
     "name": "stdout",
     "output_type": "stream",
     "text": [
      "[name: \"/device:CPU:0\"\n",
      "device_type: \"CPU\"\n",
      "memory_limit: 268435456\n",
      "locality {\n",
      "}\n",
      "incarnation: 9525925068737838248\n",
      "xla_global_id: -1\n",
      ", name: \"/device:GPU:0\"\n",
      "device_type: \"GPU\"\n",
      "memory_limit: 6940786688\n",
      "locality {\n",
      "  bus_id: 1\n",
      "  links {\n",
      "  }\n",
      "}\n",
      "incarnation: 4573829464677031517\n",
      "physical_device_desc: \"device: 0, name: NVIDIA GeForce GTX 1080, pci bus id: 0000:01:00.0, compute capability: 6.1\"\n",
      "xla_global_id: 416903419\n",
      "]\n"
     ]
    }
   ],
   "source": [
    "from tensorflow.python.client import device_lib\n",
    "print(device_lib.list_local_devices())"
   ]
  },
  {
   "cell_type": "code",
   "execution_count": 33,
   "id": "39152e02",
   "metadata": {},
   "outputs": [
    {
     "name": "stdout",
     "output_type": "stream",
     "text": [
      "Num GPUs Available:  1\n"
     ]
    }
   ],
   "source": [
    "print(\"Num GPUs Available: \", len(tf.config.list_physical_devices('GPU')))"
   ]
  },
  {
   "cell_type": "code",
   "execution_count": 34,
   "id": "7920d2f4",
   "metadata": {},
   "outputs": [
    {
     "name": "stdout",
     "output_type": "stream",
     "text": [
      "[PhysicalDevice(name='/physical_device:CPU:0', device_type='CPU'), PhysicalDevice(name='/physical_device:GPU:0', device_type='GPU')]\n"
     ]
    }
   ],
   "source": [
    "print(tf.config.list_physical_devices())"
   ]
  },
  {
   "cell_type": "code",
   "execution_count": 35,
   "id": "0bdd83cd",
   "metadata": {},
   "outputs": [
    {
     "name": "stdout",
     "output_type": "stream",
     "text": [
      "2.8.0\n"
     ]
    }
   ],
   "source": [
    "print(tf.__version__)"
   ]
  },
  {
   "cell_type": "code",
   "execution_count": 36,
   "id": "9906e1f2",
   "metadata": {},
   "outputs": [
    {
     "name": "stdout",
     "output_type": "stream",
     "text": [
      "[PhysicalDevice(name='/physical_device:CPU:0', device_type='CPU'), PhysicalDevice(name='/physical_device:GPU:0', device_type='GPU')]\n"
     ]
    }
   ],
   "source": [
    "print(tf.config.list_physical_devices())"
   ]
  },
  {
   "cell_type": "code",
   "execution_count": 37,
   "id": "767a8731",
   "metadata": {},
   "outputs": [],
   "source": [
    "train_path=\"fer_ckplus_kdef_split/train\"\n",
    "test_path=\"fer_ckplus_kdef_split/test\"\n",
    "val_path=\"fer_ckplus_kdef_split/val\"\n"
   ]
  },
  {
   "cell_type": "code",
   "execution_count": 38,
   "id": "40a97dd0",
   "metadata": {},
   "outputs": [],
   "source": [
    "(height, width, channels) = (80, 48, 3)\n",
    "\n",
    "x_train=[]\n",
    "\n",
    "for folder in os.listdir(train_path):\n",
    "\n",
    "    sub_path=train_path+\"/\"+folder\n",
    "\n",
    "    for img in os.listdir(sub_path):\n",
    "\n",
    "        image_path=sub_path+\"/\"+img\n",
    "\n",
    "        img_arr=cv2.imread(image_path)\n",
    "\n",
    "        img_arr=cv2.resize(img_arr,(height, width))\n",
    "\n",
    "        x_train.append(img_arr)\n",
    "\n",
    "x_test=[]\n",
    "\n",
    "for folder in os.listdir(test_path):\n",
    "\n",
    "    sub_path=test_path+\"/\"+folder\n",
    "\n",
    "    for img in os.listdir(sub_path):\n",
    "\n",
    "        image_path=sub_path+\"/\"+img\n",
    "\n",
    "        img_arr=cv2.imread(image_path)\n",
    "\n",
    "        img_arr=cv2.resize(img_arr,(height, width))\n",
    "\n",
    "        x_test.append(img_arr)\n",
    "        \n",
    "x_val=[]\n",
    "\n",
    "for folder in os.listdir(val_path):\n",
    "\n",
    "    sub_path=val_path+\"/\"+folder\n",
    "\n",
    "    for img in os.listdir(sub_path):\n",
    "\n",
    "        image_path=sub_path+\"/\"+img\n",
    "\n",
    "        img_arr=cv2.imread(image_path)\n",
    "\n",
    "        img_arr=cv2.resize(img_arr,(height, width))\n",
    "\n",
    "        x_val.append(img_arr)\n",
    "\n"
   ]
  },
  {
   "cell_type": "code",
   "execution_count": 39,
   "id": "71e6ae7e",
   "metadata": {},
   "outputs": [],
   "source": [
    "train_x=np.array(x_train)\n",
    "test_x=np.array(x_test)\n",
    "val_x=np.array(x_val)\n",
    "\n",
    "train_x=train_x/255.0\n",
    "test_x=test_x/255.0\n",
    "val_x=val_x/255.0\n",
    "\n",
    "\n",
    "\n"
   ]
  },
  {
   "cell_type": "code",
   "execution_count": 41,
   "id": "dd858b52",
   "metadata": {},
   "outputs": [],
   "source": [
    "train_datagen = ImageDataGenerator(rescale = 1./255)\n",
    "\n",
    "test_datagen = ImageDataGenerator(rescale = 1./255)\n",
    "\n",
    "val_datagen = ImageDataGenerator(rescale = 1./255)"
   ]
  },
  {
   "cell_type": "code",
   "execution_count": 42,
   "id": "d7f11871",
   "metadata": {},
   "outputs": [
    {
     "name": "stdout",
     "output_type": "stream",
     "text": [
      "Found 26177 images belonging to 7 classes.\n",
      "Found 3278 images belonging to 7 classes.\n",
      "Found 3269 images belonging to 7 classes.\n"
     ]
    }
   ],
   "source": [
    "training_set = train_datagen.flow_from_directory(train_path,\n",
    "                                                 target_size = (height, width),\n",
    "                                                 batch_size = 32,\n",
    "                                                 class_mode = 'sparse',\n",
    "                                                 color_mode=\"grayscale\"\n",
    "                                                )\n",
    "test_set = test_datagen.flow_from_directory(test_path,\n",
    "                                            target_size = (height, width),\n",
    "                                            batch_size = 32,\n",
    "                                            class_mode = 'sparse',\n",
    "                                            color_mode=\"grayscale\")\n",
    "val_set = val_datagen.flow_from_directory(val_path,\n",
    "                                            target_size = (height, width),\n",
    "                                            batch_size = 32,\n",
    "                                            class_mode = 'sparse',\n",
    "                                            color_mode=\"grayscale\")"
   ]
  },
  {
   "cell_type": "code",
   "execution_count": 43,
   "id": "3ade0b7f",
   "metadata": {},
   "outputs": [],
   "source": [
    "train_y=training_set.classes\n",
    "test_y=test_set.classes\n",
    "val_y=val_set.classes"
   ]
  },
  {
   "cell_type": "code",
   "execution_count": 44,
   "id": "2b37e2fc",
   "metadata": {},
   "outputs": [
    {
     "data": {
      "text/plain": [
       "((26177,), (3278,), (3269,))"
      ]
     },
     "execution_count": 44,
     "metadata": {},
     "output_type": "execute_result"
    }
   ],
   "source": [
    "#training_set.class_indices\n",
    "train_y.shape,test_y.shape,val_y.shape\n"
   ]
  },
  {
   "cell_type": "code",
   "execution_count": 45,
   "id": "6a243924",
   "metadata": {},
   "outputs": [],
   "source": [
    "IMAGE_SIZE = [48,80]"
   ]
  },
  {
   "cell_type": "code",
   "execution_count": 46,
   "id": "661a4bc6",
   "metadata": {},
   "outputs": [],
   "source": [
    "vgg = VGG19(input_shape=IMAGE_SIZE + [3], weights='imagenet', include_top=False)\n"
   ]
  },
  {
   "cell_type": "code",
   "execution_count": 47,
   "id": "c3bd4f45",
   "metadata": {},
   "outputs": [],
   "source": [
    "for layer in vgg.layers:\n",
    "    layer.trainable = False"
   ]
  },
  {
   "cell_type": "code",
   "execution_count": 48,
   "id": "b21cb58a",
   "metadata": {},
   "outputs": [],
   "source": [
    "x = Flatten()(vgg.output)\n"
   ]
  },
  {
   "cell_type": "code",
   "execution_count": 49,
   "id": "6e3f123c",
   "metadata": {},
   "outputs": [],
   "source": [
    "prediction = Dense(7, activation='softmax')(x)\n",
    "\n",
    "model = Model(inputs=vgg.input, outputs= prediction)"
   ]
  },
  {
   "cell_type": "code",
   "execution_count": 50,
   "id": "6fdb684d",
   "metadata": {},
   "outputs": [
    {
     "name": "stdout",
     "output_type": "stream",
     "text": [
      "Model: \"model_1\"\n",
      "_________________________________________________________________\n",
      " Layer (type)                Output Shape              Param #   \n",
      "=================================================================\n",
      " input_2 (InputLayer)        [(None, 48, 80, 3)]       0         \n",
      "                                                                 \n",
      " block1_conv1 (Conv2D)       (None, 48, 80, 64)        1792      \n",
      "                                                                 \n",
      " block1_conv2 (Conv2D)       (None, 48, 80, 64)        36928     \n",
      "                                                                 \n",
      " block1_pool (MaxPooling2D)  (None, 24, 40, 64)        0         \n",
      "                                                                 \n",
      " block2_conv1 (Conv2D)       (None, 24, 40, 128)       73856     \n",
      "                                                                 \n",
      " block2_conv2 (Conv2D)       (None, 24, 40, 128)       147584    \n",
      "                                                                 \n",
      " block2_pool (MaxPooling2D)  (None, 12, 20, 128)       0         \n",
      "                                                                 \n",
      " block3_conv1 (Conv2D)       (None, 12, 20, 256)       295168    \n",
      "                                                                 \n",
      " block3_conv2 (Conv2D)       (None, 12, 20, 256)       590080    \n",
      "                                                                 \n",
      " block3_conv3 (Conv2D)       (None, 12, 20, 256)       590080    \n",
      "                                                                 \n",
      " block3_conv4 (Conv2D)       (None, 12, 20, 256)       590080    \n",
      "                                                                 \n",
      " block3_pool (MaxPooling2D)  (None, 6, 10, 256)        0         \n",
      "                                                                 \n",
      " block4_conv1 (Conv2D)       (None, 6, 10, 512)        1180160   \n",
      "                                                                 \n",
      " block4_conv2 (Conv2D)       (None, 6, 10, 512)        2359808   \n",
      "                                                                 \n",
      " block4_conv3 (Conv2D)       (None, 6, 10, 512)        2359808   \n",
      "                                                                 \n",
      " block4_conv4 (Conv2D)       (None, 6, 10, 512)        2359808   \n",
      "                                                                 \n",
      " block4_pool (MaxPooling2D)  (None, 3, 5, 512)         0         \n",
      "                                                                 \n",
      " block5_conv1 (Conv2D)       (None, 3, 5, 512)         2359808   \n",
      "                                                                 \n",
      " block5_conv2 (Conv2D)       (None, 3, 5, 512)         2359808   \n",
      "                                                                 \n",
      " block5_conv3 (Conv2D)       (None, 3, 5, 512)         2359808   \n",
      "                                                                 \n",
      " block5_conv4 (Conv2D)       (None, 3, 5, 512)         2359808   \n",
      "                                                                 \n",
      " block5_pool (MaxPooling2D)  (None, 1, 2, 512)         0         \n",
      "                                                                 \n",
      " flatten_1 (Flatten)         (None, 1024)              0         \n",
      "                                                                 \n",
      " dense_1 (Dense)             (None, 7)                 7175      \n",
      "                                                                 \n",
      "=================================================================\n",
      "Total params: 20,031,559\n",
      "Trainable params: 7,175\n",
      "Non-trainable params: 20,024,384\n",
      "_________________________________________________________________\n"
     ]
    }
   ],
   "source": [
    "model.summary()\n"
   ]
  },
  {
   "cell_type": "code",
   "execution_count": 51,
   "id": "ae137835",
   "metadata": {},
   "outputs": [],
   "source": [
    "model.compile(\n",
    "  tf.keras.optimizers.Adam(learning_rate=1e-3),\n",
    "  loss='sparse_categorical_crossentropy',\n",
    "  metrics=['accuracy']\n",
    ")"
   ]
  },
  {
   "cell_type": "code",
   "execution_count": 52,
   "id": "c60bb1a4",
   "metadata": {},
   "outputs": [],
   "source": [
    "from tensorflow.keras.callbacks import EarlyStopping\n",
    "early_stop=EarlyStopping(monitor='val_loss',mode='min',verbose=1,patience=4)"
   ]
  },
  {
   "cell_type": "code",
   "execution_count": 53,
   "id": "b48f7312",
   "metadata": {},
   "outputs": [
    {
     "name": "stdout",
     "output_type": "stream",
     "text": [
      "Epoch 1/50\n",
      "410/410 [==============================] - 16s 37ms/step - loss: 1.6396 - accuracy: 0.3647 - val_loss: 1.5632 - val_accuracy: 0.4078\n",
      "Epoch 2/50\n",
      "410/410 [==============================] - 15s 35ms/step - loss: 1.5307 - accuracy: 0.4161 - val_loss: 1.5232 - val_accuracy: 0.4221\n",
      "Epoch 3/50\n",
      "410/410 [==============================] - 14s 35ms/step - loss: 1.4980 - accuracy: 0.4332 - val_loss: 1.5045 - val_accuracy: 0.4329\n",
      "Epoch 4/50\n",
      "410/410 [==============================] - 15s 36ms/step - loss: 1.4746 - accuracy: 0.4416 - val_loss: 1.4862 - val_accuracy: 0.4362\n",
      "Epoch 5/50\n",
      "410/410 [==============================] - 15s 36ms/step - loss: 1.4572 - accuracy: 0.4514 - val_loss: 1.4713 - val_accuracy: 0.4420\n",
      "Epoch 6/50\n",
      "410/410 [==============================] - 15s 36ms/step - loss: 1.4449 - accuracy: 0.4551 - val_loss: 1.4666 - val_accuracy: 0.4405\n",
      "Epoch 7/50\n",
      "410/410 [==============================] - 15s 36ms/step - loss: 1.4341 - accuracy: 0.4585 - val_loss: 1.4712 - val_accuracy: 0.4381\n",
      "Epoch 8/50\n",
      "410/410 [==============================] - 15s 36ms/step - loss: 1.4258 - accuracy: 0.4637 - val_loss: 1.4631 - val_accuracy: 0.4460\n",
      "Epoch 9/50\n",
      "410/410 [==============================] - 15s 36ms/step - loss: 1.4167 - accuracy: 0.4686 - val_loss: 1.4572 - val_accuracy: 0.4429\n",
      "Epoch 10/50\n",
      "410/410 [==============================] - 15s 36ms/step - loss: 1.4108 - accuracy: 0.4701 - val_loss: 1.4595 - val_accuracy: 0.4491\n",
      "Epoch 11/50\n",
      "410/410 [==============================] - 15s 36ms/step - loss: 1.4052 - accuracy: 0.4726 - val_loss: 1.4533 - val_accuracy: 0.4481\n",
      "Epoch 12/50\n",
      "410/410 [==============================] - 14s 35ms/step - loss: 1.3985 - accuracy: 0.4744 - val_loss: 1.4564 - val_accuracy: 0.4448\n",
      "Epoch 13/50\n",
      "410/410 [==============================] - 15s 35ms/step - loss: 1.3929 - accuracy: 0.4797 - val_loss: 1.4535 - val_accuracy: 0.4475\n",
      "Epoch 14/50\n",
      "410/410 [==============================] - 15s 36ms/step - loss: 1.3898 - accuracy: 0.4768 - val_loss: 1.4459 - val_accuracy: 0.4460\n",
      "Epoch 15/50\n",
      "410/410 [==============================] - 15s 36ms/step - loss: 1.3860 - accuracy: 0.4782 - val_loss: 1.4487 - val_accuracy: 0.4527\n",
      "Epoch 16/50\n",
      "410/410 [==============================] - 15s 36ms/step - loss: 1.3833 - accuracy: 0.4809 - val_loss: 1.4504 - val_accuracy: 0.4481\n",
      "Epoch 17/50\n",
      "410/410 [==============================] - 15s 36ms/step - loss: 1.3777 - accuracy: 0.4844 - val_loss: 1.4498 - val_accuracy: 0.4503\n",
      "Epoch 18/50\n",
      "410/410 [==============================] - 15s 36ms/step - loss: 1.3758 - accuracy: 0.4836 - val_loss: 1.4513 - val_accuracy: 0.4478\n",
      "Epoch 18: early stopping\n"
     ]
    }
   ],
   "source": [
    "history = model.fit(\n",
    "  train_x,\n",
    "  train_y,\n",
    "  validation_data=(val_x,val_y),\n",
    "  epochs=50,\n",
    "  callbacks=[early_stop],\n",
    "  batch_size=64,shuffle=True)"
   ]
  },
  {
   "cell_type": "code",
   "execution_count": 54,
   "id": "039b64ef",
   "metadata": {},
   "outputs": [],
   "source": [
    "from sklearn.metrics import accuracy_score,classification_report,confusion_matrix\n",
    "import numpy as np"
   ]
  },
  {
   "cell_type": "code",
   "execution_count": 56,
   "id": "bdf4f48f",
   "metadata": {},
   "outputs": [],
   "source": [
    "y_pred=model.predict(test_x)\n",
    "y_pred=np.argmax(y_pred,axis=1)"
   ]
  },
  {
   "cell_type": "code",
   "execution_count": 57,
   "id": "0fe5c6fa",
   "metadata": {},
   "outputs": [
    {
     "name": "stdout",
     "output_type": "stream",
     "text": [
      "              precision    recall  f1-score   support\n",
      "\n",
      "           0       0.18      0.41      0.25       207\n",
      "           1       0.21      0.61      0.31        28\n",
      "           2       0.30      0.30      0.30       341\n",
      "           3       0.77      0.47      0.59      1470\n",
      "           4       0.31      0.40      0.35       394\n",
      "           5       0.25      0.34      0.29       395\n",
      "           6       0.58      0.56      0.57       443\n",
      "\n",
      "    accuracy                           0.44      3278\n",
      "   macro avg       0.37      0.44      0.38      3278\n",
      "weighted avg       0.54      0.44      0.47      3278\n",
      "\n"
     ]
    }
   ],
   "source": [
    "print(classification_report(y_pred,test_y,zero_division=0))\n"
   ]
  },
  {
   "cell_type": "code",
   "execution_count": 58,
   "id": "92429bc7",
   "metadata": {},
   "outputs": [],
   "source": [
    "confusion_matrix_=confusion_matrix(y_pred,test_y)\n"
   ]
  },
  {
   "cell_type": "code",
   "execution_count": 59,
   "id": "56707810",
   "metadata": {},
   "outputs": [
    {
     "data": {
      "text/plain": [
       "array([[ 84,   6,  19,  27,  38,  25,   8],\n",
       "       [  1,  17,   0,   2,   1,   7,   0],\n",
       "       [ 51,   6, 103,  29,  38,  59,  55],\n",
       "       [170,  28,  78, 697, 191, 228,  78],\n",
       "       [ 49,   9,  38,  53, 159,  62,  24],\n",
       "       [ 88,  11,  37,  61,  50, 135,  13],\n",
       "       [ 30,   3,  71,  37,  31,  25, 246]], dtype=int64)"
      ]
     },
     "execution_count": 59,
     "metadata": {},
     "output_type": "execute_result"
    }
   ],
   "source": [
    "confusion_matrix_"
   ]
  },
  {
   "cell_type": "code",
   "execution_count": 60,
   "id": "b73a90cd",
   "metadata": {},
   "outputs": [],
   "source": [
    "import seaborn as sb\n",
    "from matplotlib.colors import LogNorm, PowerNorm\n"
   ]
  },
  {
   "cell_type": "code",
   "execution_count": 61,
   "id": "fbf2fd12",
   "metadata": {},
   "outputs": [
    {
     "name": "stdout",
     "output_type": "stream",
     "text": [
      "Confusion Matrix\n"
     ]
    },
    {
     "data": {
      "image/png": "[encoded data removed]",
      "text/plain": [
       "<Figure size 1080x720 with 2 Axes>"
      ]
     },
     "metadata": {
      "needs_background": "light"
     },
     "output_type": "display_data"
    }
   ],
   "source": [
    "labels = ['Angry', 'Disgust', 'Fear', 'Happy', 'Neutral', 'Sad','Surprise']\n",
    "positions = list(range(len(labels)))\n",
    "positions = [x+0.5 for x in positions]\n",
    "\n",
    "print(f'Confusion Matrix')\n",
    "fig, ax = plt.subplots(figsize=(15, 10))\n",
    "# plot heatmap\n",
    "sb.heatmap(confusion_matrix_,\n",
    "           cmap='RdYlGn',\n",
    "           annot=True,\n",
    "           fmt=\"1d\",\n",
    "           linewidth=0.3,\n",
    "           cbar_kws={\"shrink\": .8},\n",
    "           norm=PowerNorm(vmin=confusion_matrix_.min().min(),\n",
    "                          vmax=confusion_matrix_.max().max(),\n",
    "                          gamma=0.35)\n",
    "          )\n",
    "\n",
    "plt.xlabel('Real')\n",
    "ax.set_xticks(positions, labels, rotation = 90)\n",
    "plt.ylabel('Predicted')\n",
    "ax.set_yticks(positions, labels, rotation = 0)\n",
    "plt.show()"
   ]
  }
 ],
 "metadata": {
  "kernelspec": {
   "display_name": "Python 3 (ipykernel)",
   "language": "python",
   "name": "python3"
  },
  "language_info": {
   "codemirror_mode": {
    "name": "ipython",
    "version": 3
   },
   "file_extension": ".py",
   "mimetype": "text/x-python",
   "name": "python",
   "nbconvert_exporter": "python",
   "pygments_lexer": "ipython3",
   "version": "3.8.13"
  }
 },
 "nbformat": 4,
 "nbformat_minor": 5
}
