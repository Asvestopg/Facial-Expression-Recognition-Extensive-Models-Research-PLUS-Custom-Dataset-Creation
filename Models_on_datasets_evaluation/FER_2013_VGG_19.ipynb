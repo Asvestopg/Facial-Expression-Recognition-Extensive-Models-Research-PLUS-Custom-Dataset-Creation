{
 "cells": [
  {
   "cell_type": "code",
   "execution_count": 1,
   "id": "a04868a1",
   "metadata": {},
   "outputs": [],
   "source": [
    "from tensorflow.keras.layers import Input, Lambda, Dense, Flatten,Dropout\n",
    "from tensorflow.keras.models import Model\n",
    "from tensorflow.keras.applications.vgg19 import VGG19\n",
    "from tensorflow.keras.applications.vgg19 import preprocess_input\n",
    "from tensorflow.keras.preprocessing import image\n",
    "from tensorflow.keras.preprocessing.image import ImageDataGenerator\n",
    "from tensorflow.keras.models import Sequential\n",
    "import numpy as np\n",
    "import pandas as pd\n",
    "import os\n",
    "import cv2\n",
    "import matplotlib.pyplot as plt\n",
    "import tensorflow as tf"
   ]
  },
  {
   "cell_type": "code",
   "execution_count": 2,
   "id": "75b682ba",
   "metadata": {},
   "outputs": [
    {
     "name": "stdout",
     "output_type": "stream",
     "text": [
      "[name: \"/device:CPU:0\"\n",
      "device_type: \"CPU\"\n",
      "memory_limit: 268435456\n",
      "locality {\n",
      "}\n",
      "incarnation: 8676981999596532088\n",
      "xla_global_id: -1\n",
      ", name: \"/device:GPU:0\"\n",
      "device_type: \"GPU\"\n",
      "memory_limit: 6940786688\n",
      "locality {\n",
      "  bus_id: 1\n",
      "  links {\n",
      "  }\n",
      "}\n",
      "incarnation: 9304301400475051744\n",
      "physical_device_desc: \"device: 0, name: NVIDIA GeForce GTX 1080, pci bus id: 0000:01:00.0, compute capability: 6.1\"\n",
      "xla_global_id: 416903419\n",
      "]\n"
     ]
    }
   ],
   "source": [
    "from tensorflow.python.client import device_lib\n",
    "print(device_lib.list_local_devices())"
   ]
  },
  {
   "cell_type": "code",
   "execution_count": 3,
   "id": "39152e02",
   "metadata": {},
   "outputs": [
    {
     "name": "stdout",
     "output_type": "stream",
     "text": [
      "Num GPUs Available:  1\n"
     ]
    }
   ],
   "source": [
    "print(\"Num GPUs Available: \", len(tf.config.list_physical_devices('GPU')))"
   ]
  },
  {
   "cell_type": "code",
   "execution_count": 4,
   "id": "7920d2f4",
   "metadata": {},
   "outputs": [
    {
     "name": "stdout",
     "output_type": "stream",
     "text": [
      "[PhysicalDevice(name='/physical_device:CPU:0', device_type='CPU'), PhysicalDevice(name='/physical_device:GPU:0', device_type='GPU')]\n"
     ]
    }
   ],
   "source": [
    "print(tf.config.list_physical_devices())"
   ]
  },
  {
   "cell_type": "code",
   "execution_count": 5,
   "id": "0bdd83cd",
   "metadata": {},
   "outputs": [
    {
     "name": "stdout",
     "output_type": "stream",
     "text": [
      "2.8.0\n"
     ]
    }
   ],
   "source": [
    "print(tf.__version__)"
   ]
  },
  {
   "cell_type": "code",
   "execution_count": 6,
   "id": "9906e1f2",
   "metadata": {},
   "outputs": [
    {
     "name": "stdout",
     "output_type": "stream",
     "text": [
      "[PhysicalDevice(name='/physical_device:CPU:0', device_type='CPU'), PhysicalDevice(name='/physical_device:GPU:0', device_type='GPU')]\n"
     ]
    }
   ],
   "source": [
    "print(tf.config.list_physical_devices())"
   ]
  },
  {
   "cell_type": "code",
   "execution_count": 7,
   "id": "767a8731",
   "metadata": {},
   "outputs": [],
   "source": [
    "train_path=\"small/train\"\n",
    "test_path=\"small/test\"\n",
    "val_path=\"small/val\"\n"
   ]
  },
  {
   "cell_type": "code",
   "execution_count": 8,
   "id": "40a97dd0",
   "metadata": {},
   "outputs": [],
   "source": [
    "(height, width, channels) = (80, 48, 3)\n",
    "\n",
    "x_train=[]\n",
    "\n",
    "for folder in os.listdir(train_path):\n",
    "\n",
    "    sub_path=train_path+\"/\"+folder\n",
    "\n",
    "    for img in os.listdir(sub_path):\n",
    "\n",
    "        image_path=sub_path+\"/\"+img\n",
    "\n",
    "        img_arr=cv2.imread(image_path)\n",
    "\n",
    "        img_arr=cv2.resize(img_arr,(height, width))\n",
    "\n",
    "        x_train.append(img_arr)\n",
    "\n",
    "x_test=[]\n",
    "\n",
    "for folder in os.listdir(test_path):\n",
    "\n",
    "    sub_path=test_path+\"/\"+folder\n",
    "\n",
    "    for img in os.listdir(sub_path):\n",
    "\n",
    "        image_path=sub_path+\"/\"+img\n",
    "\n",
    "        img_arr=cv2.imread(image_path)\n",
    "\n",
    "        img_arr=cv2.resize(img_arr,(height, width))\n",
    "\n",
    "        x_test.append(img_arr)\n",
    "        \n",
    "x_val=[]\n",
    "\n",
    "for folder in os.listdir(val_path):\n",
    "\n",
    "    sub_path=val_path+\"/\"+folder\n",
    "\n",
    "    for img in os.listdir(sub_path):\n",
    "\n",
    "        image_path=sub_path+\"/\"+img\n",
    "\n",
    "        img_arr=cv2.imread(image_path)\n",
    "\n",
    "        img_arr=cv2.resize(img_arr,(height, width))\n",
    "\n",
    "        x_val.append(img_arr)\n",
    "\n"
   ]
  },
  {
   "cell_type": "code",
   "execution_count": 9,
   "id": "71e6ae7e",
   "metadata": {},
   "outputs": [],
   "source": [
    "train_x=np.array(x_train)\n",
    "test_x=np.array(x_test)\n",
    "val_x=np.array(x_val)\n",
    "\n",
    "train_x=train_x/255.0\n",
    "test_x=test_x/255.0\n",
    "val_x=val_x/255.0\n",
    "\n",
    "\n",
    "\n"
   ]
  },
  {
   "cell_type": "code",
   "execution_count": 11,
   "id": "dd858b52",
   "metadata": {},
   "outputs": [],
   "source": [
    "train_datagen = ImageDataGenerator(rescale = 1./255)\n",
    "\n",
    "test_datagen = ImageDataGenerator(rescale = 1./255)\n",
    "\n",
    "val_datagen = ImageDataGenerator(rescale = 1./255)"
   ]
  },
  {
   "cell_type": "code",
   "execution_count": 12,
   "id": "d7f11871",
   "metadata": {},
   "outputs": [
    {
     "name": "stdout",
     "output_type": "stream",
     "text": [
      "Found 28709 images belonging to 7 classes.\n",
      "Found 7178 images belonging to 7 classes.\n",
      "Found 1900 images belonging to 7 classes.\n"
     ]
    }
   ],
   "source": [
    "training_set = train_datagen.flow_from_directory(train_path,\n",
    "                                                 target_size = (height, width),\n",
    "                                                 batch_size = 32,\n",
    "                                                 class_mode = 'sparse',\n",
    "                                                 color_mode=\"grayscale\"\n",
    "                                                )\n",
    "test_set = test_datagen.flow_from_directory(test_path,\n",
    "                                            target_size = (height, width),\n",
    "                                            batch_size = 32,\n",
    "                                            class_mode = 'sparse',\n",
    "                                            color_mode=\"grayscale\")\n",
    "val_set = val_datagen.flow_from_directory(val_path,\n",
    "                                            target_size = (height, width),\n",
    "                                            batch_size = 32,\n",
    "                                            class_mode = 'sparse',\n",
    "                                            color_mode=\"grayscale\")"
   ]
  },
  {
   "cell_type": "code",
   "execution_count": 13,
   "id": "3ade0b7f",
   "metadata": {},
   "outputs": [],
   "source": [
    "train_y=training_set.classes\n",
    "test_y=test_set.classes\n",
    "val_y=val_set.classes"
   ]
  },
  {
   "cell_type": "code",
   "execution_count": 14,
   "id": "2b37e2fc",
   "metadata": {},
   "outputs": [
    {
     "data": {
      "text/plain": [
       "((28709,), (7178,), (1900,))"
      ]
     },
     "execution_count": 14,
     "metadata": {},
     "output_type": "execute_result"
    }
   ],
   "source": [
    "#training_set.class_indices\n",
    "train_y.shape,test_y.shape,val_y.shape\n"
   ]
  },
  {
   "cell_type": "code",
   "execution_count": 15,
   "id": "6a243924",
   "metadata": {},
   "outputs": [],
   "source": [
    "IMAGE_SIZE = [48,80]"
   ]
  },
  {
   "cell_type": "code",
   "execution_count": 16,
   "id": "661a4bc6",
   "metadata": {},
   "outputs": [],
   "source": [
    "vgg = VGG19(input_shape=IMAGE_SIZE + [3], weights='imagenet', include_top=False)\n"
   ]
  },
  {
   "cell_type": "code",
   "execution_count": 17,
   "id": "c3bd4f45",
   "metadata": {},
   "outputs": [],
   "source": [
    "for layer in vgg.layers:\n",
    "    layer.trainable = False"
   ]
  },
  {
   "cell_type": "code",
   "execution_count": 18,
   "id": "b21cb58a",
   "metadata": {},
   "outputs": [],
   "source": [
    "x = Flatten()(vgg.output)\n"
   ]
  },
  {
   "cell_type": "code",
   "execution_count": 19,
   "id": "6e3f123c",
   "metadata": {},
   "outputs": [],
   "source": [
    "prediction = Dense(7, activation='softmax')(x)\n",
    "\n",
    "model = Model(inputs=vgg.input, outputs= prediction)"
   ]
  },
  {
   "cell_type": "code",
   "execution_count": 20,
   "id": "6fdb684d",
   "metadata": {},
   "outputs": [
    {
     "name": "stdout",
     "output_type": "stream",
     "text": [
      "Model: \"model\"\n",
      "_________________________________________________________________\n",
      " Layer (type)                Output Shape              Param #   \n",
      "=================================================================\n",
      " input_1 (InputLayer)        [(None, 48, 80, 3)]       0         \n",
      "                                                                 \n",
      " block1_conv1 (Conv2D)       (None, 48, 80, 64)        1792      \n",
      "                                                                 \n",
      " block1_conv2 (Conv2D)       (None, 48, 80, 64)        36928     \n",
      "                                                                 \n",
      " block1_pool (MaxPooling2D)  (None, 24, 40, 64)        0         \n",
      "                                                                 \n",
      " block2_conv1 (Conv2D)       (None, 24, 40, 128)       73856     \n",
      "                                                                 \n",
      " block2_conv2 (Conv2D)       (None, 24, 40, 128)       147584    \n",
      "                                                                 \n",
      " block2_pool (MaxPooling2D)  (None, 12, 20, 128)       0         \n",
      "                                                                 \n",
      " block3_conv1 (Conv2D)       (None, 12, 20, 256)       295168    \n",
      "                                                                 \n",
      " block3_conv2 (Conv2D)       (None, 12, 20, 256)       590080    \n",
      "                                                                 \n",
      " block3_conv3 (Conv2D)       (None, 12, 20, 256)       590080    \n",
      "                                                                 \n",
      " block3_conv4 (Conv2D)       (None, 12, 20, 256)       590080    \n",
      "                                                                 \n",
      " block3_pool (MaxPooling2D)  (None, 6, 10, 256)        0         \n",
      "                                                                 \n",
      " block4_conv1 (Conv2D)       (None, 6, 10, 512)        1180160   \n",
      "                                                                 \n",
      " block4_conv2 (Conv2D)       (None, 6, 10, 512)        2359808   \n",
      "                                                                 \n",
      " block4_conv3 (Conv2D)       (None, 6, 10, 512)        2359808   \n",
      "                                                                 \n",
      " block4_conv4 (Conv2D)       (None, 6, 10, 512)        2359808   \n",
      "                                                                 \n",
      " block4_pool (MaxPooling2D)  (None, 3, 5, 512)         0         \n",
      "                                                                 \n",
      " block5_conv1 (Conv2D)       (None, 3, 5, 512)         2359808   \n",
      "                                                                 \n",
      " block5_conv2 (Conv2D)       (None, 3, 5, 512)         2359808   \n",
      "                                                                 \n",
      " block5_conv3 (Conv2D)       (None, 3, 5, 512)         2359808   \n",
      "                                                                 \n",
      " block5_conv4 (Conv2D)       (None, 3, 5, 512)         2359808   \n",
      "                                                                 \n",
      " block5_pool (MaxPooling2D)  (None, 1, 2, 512)         0         \n",
      "                                                                 \n",
      " flatten (Flatten)           (None, 1024)              0         \n",
      "                                                                 \n",
      " dense (Dense)               (None, 7)                 7175      \n",
      "                                                                 \n",
      "=================================================================\n",
      "Total params: 20,031,559\n",
      "Trainable params: 7,175\n",
      "Non-trainable params: 20,024,384\n",
      "_________________________________________________________________\n"
     ]
    }
   ],
   "source": [
    "model.summary()\n"
   ]
  },
  {
   "cell_type": "code",
   "execution_count": 21,
   "id": "ae137835",
   "metadata": {},
   "outputs": [],
   "source": [
    "model.compile(\n",
    "  tf.keras.optimizers.Adam(learning_rate=1e-3),\n",
    "  loss='sparse_categorical_crossentropy',\n",
    "  metrics=['accuracy']\n",
    ")"
   ]
  },
  {
   "cell_type": "code",
   "execution_count": 22,
   "id": "c60bb1a4",
   "metadata": {},
   "outputs": [],
   "source": [
    "from tensorflow.keras.callbacks import EarlyStopping\n",
    "early_stop=EarlyStopping(monitor='val_loss',mode='min',verbose=1,patience=4)"
   ]
  },
  {
   "cell_type": "code",
   "execution_count": 23,
   "id": "b48f7312",
   "metadata": {},
   "outputs": [
    {
     "name": "stdout",
     "output_type": "stream",
     "text": [
      "Epoch 1/50\n",
      "449/449 [==============================] - 18s 36ms/step - loss: 1.6707 - accuracy: 0.3414 - val_loss: 2.0221 - val_accuracy: 0.2953\n",
      "Epoch 2/50\n",
      "449/449 [==============================] - 15s 34ms/step - loss: 1.5769 - accuracy: 0.3880 - val_loss: 1.9059 - val_accuracy: 0.3200\n",
      "Epoch 3/50\n",
      "449/449 [==============================] - 15s 34ms/step - loss: 1.5451 - accuracy: 0.4024 - val_loss: 1.8622 - val_accuracy: 0.3268\n",
      "Epoch 4/50\n",
      "449/449 [==============================] - 15s 34ms/step - loss: 1.5245 - accuracy: 0.4099 - val_loss: 1.7911 - val_accuracy: 0.3358\n",
      "Epoch 5/50\n",
      "449/449 [==============================] - 15s 34ms/step - loss: 1.5102 - accuracy: 0.4179 - val_loss: 1.7838 - val_accuracy: 0.3400\n",
      "Epoch 6/50\n",
      "449/449 [==============================] - 15s 34ms/step - loss: 1.5003 - accuracy: 0.4242 - val_loss: 1.7998 - val_accuracy: 0.3358\n",
      "Epoch 7/50\n",
      "449/449 [==============================] - 15s 34ms/step - loss: 1.4882 - accuracy: 0.4270 - val_loss: 1.8103 - val_accuracy: 0.3384\n",
      "Epoch 8/50\n",
      "449/449 [==============================] - 15s 34ms/step - loss: 1.4811 - accuracy: 0.4316 - val_loss: 1.7671 - val_accuracy: 0.3353\n",
      "Epoch 9/50\n",
      "449/449 [==============================] - 15s 34ms/step - loss: 1.4754 - accuracy: 0.4299 - val_loss: 1.8216 - val_accuracy: 0.3374\n",
      "Epoch 10/50\n",
      "449/449 [==============================] - 15s 34ms/step - loss: 1.4675 - accuracy: 0.4359 - val_loss: 1.7002 - val_accuracy: 0.3679\n",
      "Epoch 11/50\n",
      "449/449 [==============================] - 15s 34ms/step - loss: 1.4615 - accuracy: 0.4381 - val_loss: 1.8700 - val_accuracy: 0.3479\n",
      "Epoch 12/50\n",
      "449/449 [==============================] - 15s 34ms/step - loss: 1.4573 - accuracy: 0.4402 - val_loss: 1.7981 - val_accuracy: 0.3474\n",
      "Epoch 13/50\n",
      "449/449 [==============================] - 15s 33ms/step - loss: 1.4529 - accuracy: 0.4410 - val_loss: 1.7904 - val_accuracy: 0.3489\n",
      "Epoch 14/50\n",
      "449/449 [==============================] - 15s 33ms/step - loss: 1.4490 - accuracy: 0.4446 - val_loss: 1.7340 - val_accuracy: 0.3489\n",
      "Epoch 14: early stopping\n"
     ]
    }
   ],
   "source": [
    "history = model.fit(\n",
    "  train_x,\n",
    "  train_y,\n",
    "  validation_data=(val_x,val_y),\n",
    "  epochs=50,\n",
    "  callbacks=[early_stop],\n",
    "  batch_size=64,shuffle=True)"
   ]
  },
  {
   "cell_type": "code",
   "execution_count": 24,
   "id": "039b64ef",
   "metadata": {},
   "outputs": [],
   "source": [
    "from sklearn.metrics import accuracy_score,classification_report,confusion_matrix\n",
    "import numpy as np"
   ]
  },
  {
   "cell_type": "code",
   "execution_count": 26,
   "id": "bdf4f48f",
   "metadata": {},
   "outputs": [],
   "source": [
    "y_pred=model.predict(test_x)\n",
    "y_pred=np.argmax(y_pred,axis=1)"
   ]
  },
  {
   "cell_type": "code",
   "execution_count": 27,
   "id": "0fe5c6fa",
   "metadata": {},
   "outputs": [
    {
     "name": "stdout",
     "output_type": "stream",
     "text": [
      "              precision    recall  f1-score   support\n",
      "\n",
      "           0       0.27      0.34      0.30       746\n",
      "           1       0.04      0.44      0.07         9\n",
      "           2       0.29      0.29      0.29      1029\n",
      "           3       0.65      0.48      0.55      2405\n",
      "           4       0.32      0.40      0.36      1009\n",
      "           5       0.38      0.33      0.35      1434\n",
      "           6       0.42      0.63      0.50       546\n",
      "\n",
      "    accuracy                           0.41      7178\n",
      "   macro avg       0.34      0.42      0.34      7178\n",
      "weighted avg       0.44      0.41      0.42      7178\n",
      "\n"
     ]
    }
   ],
   "source": [
    "print(classification_report(y_pred,test_y,zero_division=0))\n"
   ]
  },
  {
   "cell_type": "code",
   "execution_count": 28,
   "id": "92429bc7",
   "metadata": {},
   "outputs": [],
   "source": [
    "confusion_matrix_=confusion_matrix(y_pred,test_y)\n"
   ]
  },
  {
   "cell_type": "code",
   "execution_count": 29,
   "id": "56707810",
   "metadata": {},
   "outputs": [
    {
     "data": {
      "text/plain": [
       "array([[ 255,   17,   99,  109,  109,  110,   47],\n",
       "       [   1,    4,    2,    0,    1,    1,    0],\n",
       "       [ 114,   29,  294,  114,  141,  157,  180],\n",
       "       [ 235,   34,  199, 1151,  326,  336,  124],\n",
       "       [ 127,    6,  102,  140,  399,  153,   82],\n",
       "       [ 193,   19,  238,  230,  231,  471,   52],\n",
       "       [  33,    2,   90,   30,   26,   19,  346]], dtype=int64)"
      ]
     },
     "execution_count": 29,
     "metadata": {},
     "output_type": "execute_result"
    }
   ],
   "source": [
    "confusion_matrix_"
   ]
  },
  {
   "cell_type": "code",
   "execution_count": 31,
   "id": "b73a90cd",
   "metadata": {},
   "outputs": [],
   "source": [
    "import seaborn as sb\n",
    "from matplotlib.colors import LogNorm, PowerNorm\n"
   ]
  },
  {
   "cell_type": "code",
   "execution_count": 32,
   "id": "fbf2fd12",
   "metadata": {},
   "outputs": [
    {
     "name": "stdout",
     "output_type": "stream",
     "text": [
      "Confusion Matrix\n"
     ]
    },
    {
     "data": {
      "image/png": "[encoded data removed]",
      "text/plain": [
       "<Figure size 1080x720 with 2 Axes>"
      ]
     },
     "metadata": {
      "needs_background": "light"
     },
     "output_type": "display_data"
    }
   ],
   "source": [
    "labels = ['Angry', 'Disgust', 'Fear', 'Happy', 'Neutral', 'Sad','Surprise']\n",
    "positions = list(range(len(labels)))\n",
    "positions = [x+0.5 for x in positions]\n",
    "\n",
    "print(f'Confusion Matrix')\n",
    "fig, ax = plt.subplots(figsize=(15, 10))\n",
    "# plot heatmap\n",
    "sb.heatmap(confusion_matrix_,\n",
    "           cmap='RdYlGn',\n",
    "           annot=True,\n",
    "           fmt=\"1d\",\n",
    "           linewidth=0.3,\n",
    "           cbar_kws={\"shrink\": .8},\n",
    "           norm=PowerNorm(vmin=confusion_matrix_.min().min(),\n",
    "                          vmax=confusion_matrix_.max().max(),\n",
    "                          gamma=0.35)\n",
    "          )\n",
    "\n",
    "plt.xlabel('Real')\n",
    "ax.set_xticks(positions, labels, rotation = 90)\n",
    "plt.ylabel('Predicted')\n",
    "ax.set_yticks(positions, labels, rotation = 0)\n",
    "plt.show()"
   ]
  }
 ],
 "metadata": {
  "kernelspec": {
   "display_name": "Python 3 (ipykernel)",
   "language": "python",
   "name": "python3"
  },
  "language_info": {
   "codemirror_mode": {
    "name": "ipython",
    "version": 3
   },
   "file_extension": ".py",
   "mimetype": "text/x-python",
   "name": "python",
   "nbconvert_exporter": "python",
   "pygments_lexer": "ipython3",
   "version": "3.8.13"
  }
 },
 "nbformat": 4,
 "nbformat_minor": 5
}
