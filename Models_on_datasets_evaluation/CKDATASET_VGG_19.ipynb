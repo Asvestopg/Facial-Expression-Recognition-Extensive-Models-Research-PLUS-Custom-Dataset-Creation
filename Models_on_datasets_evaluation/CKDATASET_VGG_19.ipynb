{
 "cells": [
  {
   "cell_type": "code",
   "execution_count": 1,
   "id": "a04868a1",
   "metadata": {},
   "outputs": [],
   "source": [
    "from tensorflow.keras.layers import Input, Lambda, Dense, Flatten,Dropout\n",
    "from tensorflow.keras.models import Model\n",
    "from tensorflow.keras.applications.vgg19 import VGG19\n",
    "from tensorflow.keras.applications.vgg19 import preprocess_input\n",
    "from tensorflow.keras.preprocessing import image\n",
    "from tensorflow.keras.preprocessing.image import ImageDataGenerator\n",
    "from tensorflow.keras.models import Sequential\n",
    "import numpy as np\n",
    "import pandas as pd\n",
    "import os\n",
    "import cv2\n",
    "import matplotlib.pyplot as plt\n",
    "import tensorflow as tf"
   ]
  },
  {
   "cell_type": "code",
   "execution_count": 2,
   "id": "75b682ba",
   "metadata": {},
   "outputs": [
    {
     "name": "stdout",
     "output_type": "stream",
     "text": [
      "[name: \"/device:CPU:0\"\n",
      "device_type: \"CPU\"\n",
      "memory_limit: 268435456\n",
      "locality {\n",
      "}\n",
      "incarnation: 13179731412193298760\n",
      "xla_global_id: -1\n",
      ", name: \"/device:GPU:0\"\n",
      "device_type: \"GPU\"\n",
      "memory_limit: 6940786688\n",
      "locality {\n",
      "  bus_id: 1\n",
      "  links {\n",
      "  }\n",
      "}\n",
      "incarnation: 3413629040829047580\n",
      "physical_device_desc: \"device: 0, name: NVIDIA GeForce GTX 1080, pci bus id: 0000:01:00.0, compute capability: 6.1\"\n",
      "xla_global_id: 416903419\n",
      "]\n"
     ]
    }
   ],
   "source": [
    "from tensorflow.python.client import device_lib\n",
    "print(device_lib.list_local_devices())"
   ]
  },
  {
   "cell_type": "code",
   "execution_count": 3,
   "id": "39152e02",
   "metadata": {},
   "outputs": [
    {
     "name": "stdout",
     "output_type": "stream",
     "text": [
      "Num GPUs Available:  1\n"
     ]
    }
   ],
   "source": [
    "print(\"Num GPUs Available: \", len(tf.config.list_physical_devices('GPU')))"
   ]
  },
  {
   "cell_type": "code",
   "execution_count": 4,
   "id": "7920d2f4",
   "metadata": {},
   "outputs": [
    {
     "name": "stdout",
     "output_type": "stream",
     "text": [
      "[PhysicalDevice(name='/physical_device:CPU:0', device_type='CPU'), PhysicalDevice(name='/physical_device:GPU:0', device_type='GPU')]\n"
     ]
    }
   ],
   "source": [
    "print(tf.config.list_physical_devices())"
   ]
  },
  {
   "cell_type": "code",
   "execution_count": 5,
   "id": "0bdd83cd",
   "metadata": {},
   "outputs": [
    {
     "name": "stdout",
     "output_type": "stream",
     "text": [
      "2.8.0\n"
     ]
    }
   ],
   "source": [
    "print(tf.__version__)"
   ]
  },
  {
   "cell_type": "code",
   "execution_count": 6,
   "id": "9906e1f2",
   "metadata": {},
   "outputs": [
    {
     "name": "stdout",
     "output_type": "stream",
     "text": [
      "[PhysicalDevice(name='/physical_device:CPU:0', device_type='CPU'), PhysicalDevice(name='/physical_device:GPU:0', device_type='GPU')]\n"
     ]
    }
   ],
   "source": [
    "print(tf.config.list_physical_devices())"
   ]
  },
  {
   "cell_type": "code",
   "execution_count": 7,
   "id": "767a8731",
   "metadata": {},
   "outputs": [],
   "source": [
    "train_path=\"CKDATASET_SPLIT/train\"\n",
    "test_path=\"CKDATASET_SPLIT/test\"\n",
    "val_path=\"CKDATASET_SPLIT/val\"\n"
   ]
  },
  {
   "cell_type": "code",
   "execution_count": 8,
   "id": "40a97dd0",
   "metadata": {},
   "outputs": [],
   "source": [
    "(height, width, channels) = (80, 48, 3)\n",
    "\n",
    "x_train=[]\n",
    "\n",
    "for folder in os.listdir(train_path):\n",
    "\n",
    "    sub_path=train_path+\"/\"+folder\n",
    "\n",
    "    for img in os.listdir(sub_path):\n",
    "\n",
    "        image_path=sub_path+\"/\"+img\n",
    "\n",
    "        img_arr=cv2.imread(image_path)\n",
    "\n",
    "        img_arr=cv2.resize(img_arr,(height, width))\n",
    "\n",
    "        x_train.append(img_arr)\n",
    "\n",
    "x_test=[]\n",
    "\n",
    "for folder in os.listdir(test_path):\n",
    "\n",
    "    sub_path=test_path+\"/\"+folder\n",
    "\n",
    "    for img in os.listdir(sub_path):\n",
    "\n",
    "        image_path=sub_path+\"/\"+img\n",
    "\n",
    "        img_arr=cv2.imread(image_path)\n",
    "\n",
    "        img_arr=cv2.resize(img_arr,(height, width))\n",
    "\n",
    "        x_test.append(img_arr)\n",
    "        \n",
    "x_val=[]\n",
    "\n",
    "for folder in os.listdir(val_path):\n",
    "\n",
    "    sub_path=val_path+\"/\"+folder\n",
    "\n",
    "    for img in os.listdir(sub_path):\n",
    "\n",
    "        image_path=sub_path+\"/\"+img\n",
    "\n",
    "        img_arr=cv2.imread(image_path)\n",
    "\n",
    "        img_arr=cv2.resize(img_arr,(height, width))\n",
    "\n",
    "        x_val.append(img_arr)\n",
    "\n"
   ]
  },
  {
   "cell_type": "code",
   "execution_count": 9,
   "id": "71e6ae7e",
   "metadata": {},
   "outputs": [],
   "source": [
    "train_x=np.array(x_train)\n",
    "test_x=np.array(x_test)\n",
    "val_x=np.array(x_val)\n",
    "\n",
    "train_x=train_x/255.0\n",
    "test_x=test_x/255.0\n",
    "val_x=val_x/255.0\n",
    "\n",
    "\n",
    "\n"
   ]
  },
  {
   "cell_type": "code",
   "execution_count": 10,
   "id": "8bf953fe",
   "metadata": {},
   "outputs": [],
   "source": [
    "#def dubble_image_size(img):\n",
    "#    size = (48, 80)\n",
    "#    image = cv2.resize(img, size) # dubble the image size\n",
    "#    image = image.astype('uint8')\n",
    "#    equalized_img = cv2.equalizeHist(image)\n",
    "#  \n",
    "#    equalized_img = equalized_img.reshape(size[1], size[0], 1)\n",
    "#    \n",
    "#    #grayimg = cv2.cvtColor(image, cv2.COLOR_BGR2GRAY)\n",
    "#    equalized_img = equalized_img.astype('float64')\n",
    "#    \n",
    "#     \n",
    "#    #unsharped_img = unsharp_mask(image, radius=3, amount=1)\n",
    "#    return equalized_img\n",
    "#\n",
    "#\n",
    "##def dubble_image_size(img):\n",
    "##   size = (48, 80)\n",
    "##  return cv2.resize(image,size)    #edw prepei na diabazoume tis diastaseis gia na ginei pio automato"
   ]
  },
  {
   "cell_type": "code",
   "execution_count": 11,
   "id": "dd858b52",
   "metadata": {},
   "outputs": [],
   "source": [
    "train_datagen = ImageDataGenerator(rescale = 1./255)\n",
    "\n",
    "test_datagen = ImageDataGenerator(rescale = 1./255)\n",
    "\n",
    "val_datagen = ImageDataGenerator(rescale = 1./255)"
   ]
  },
  {
   "cell_type": "code",
   "execution_count": 12,
   "id": "d7f11871",
   "metadata": {},
   "outputs": [
    {
     "name": "stdout",
     "output_type": "stream",
     "text": [
      "Found 783 images belonging to 7 classes.\n",
      "Found 104 images belonging to 7 classes.\n",
      "Found 94 images belonging to 7 classes.\n"
     ]
    }
   ],
   "source": [
    "training_set = train_datagen.flow_from_directory(train_path,\n",
    "                                                 target_size = (height, width),\n",
    "                                                 batch_size = 32,\n",
    "                                                 class_mode = 'sparse',\n",
    "                                                 color_mode=\"grayscale\"\n",
    "                                                )\n",
    "test_set = test_datagen.flow_from_directory(test_path,\n",
    "                                            target_size = (height, width),\n",
    "                                            batch_size = 32,\n",
    "                                            class_mode = 'sparse',\n",
    "                                            color_mode=\"grayscale\")\n",
    "val_set = val_datagen.flow_from_directory(val_path,\n",
    "                                            target_size = (height, width),\n",
    "                                            batch_size = 32,\n",
    "                                            class_mode = 'sparse',\n",
    "                                            color_mode=\"grayscale\")"
   ]
  },
  {
   "cell_type": "code",
   "execution_count": 13,
   "id": "3ade0b7f",
   "metadata": {},
   "outputs": [],
   "source": [
    "train_y=training_set.classes\n",
    "test_y=test_set.classes\n",
    "val_y=val_set.classes"
   ]
  },
  {
   "cell_type": "code",
   "execution_count": 14,
   "id": "2b37e2fc",
   "metadata": {},
   "outputs": [
    {
     "data": {
      "text/plain": [
       "((783,), (104,), (94,))"
      ]
     },
     "execution_count": 14,
     "metadata": {},
     "output_type": "execute_result"
    }
   ],
   "source": [
    "#training_set.class_indices\n",
    "train_y.shape,test_y.shape,val_y.shape\n"
   ]
  },
  {
   "cell_type": "code",
   "execution_count": 15,
   "id": "6a243924",
   "metadata": {},
   "outputs": [],
   "source": [
    "IMAGE_SIZE = [48,80]"
   ]
  },
  {
   "cell_type": "code",
   "execution_count": 16,
   "id": "661a4bc6",
   "metadata": {},
   "outputs": [],
   "source": [
    "vgg = VGG19(input_shape=IMAGE_SIZE + [3], weights='imagenet', include_top=False)\n"
   ]
  },
  {
   "cell_type": "code",
   "execution_count": 17,
   "id": "c3bd4f45",
   "metadata": {},
   "outputs": [],
   "source": [
    "for layer in vgg.layers:\n",
    "    layer.trainable = False"
   ]
  },
  {
   "cell_type": "code",
   "execution_count": 18,
   "id": "b21cb58a",
   "metadata": {},
   "outputs": [],
   "source": [
    "x = Flatten()(vgg.output)\n"
   ]
  },
  {
   "cell_type": "code",
   "execution_count": 19,
   "id": "6e3f123c",
   "metadata": {},
   "outputs": [],
   "source": [
    "prediction = Dense(7, activation='softmax')(x)\n",
    "\n",
    "model = Model(inputs=vgg.input, outputs= prediction)"
   ]
  },
  {
   "cell_type": "code",
   "execution_count": 20,
   "id": "6fdb684d",
   "metadata": {},
   "outputs": [
    {
     "name": "stdout",
     "output_type": "stream",
     "text": [
      "Model: \"model\"\n",
      "_________________________________________________________________\n",
      " Layer (type)                Output Shape              Param #   \n",
      "=================================================================\n",
      " input_1 (InputLayer)        [(None, 48, 80, 3)]       0         \n",
      "                                                                 \n",
      " block1_conv1 (Conv2D)       (None, 48, 80, 64)        1792      \n",
      "                                                                 \n",
      " block1_conv2 (Conv2D)       (None, 48, 80, 64)        36928     \n",
      "                                                                 \n",
      " block1_pool (MaxPooling2D)  (None, 24, 40, 64)        0         \n",
      "                                                                 \n",
      " block2_conv1 (Conv2D)       (None, 24, 40, 128)       73856     \n",
      "                                                                 \n",
      " block2_conv2 (Conv2D)       (None, 24, 40, 128)       147584    \n",
      "                                                                 \n",
      " block2_pool (MaxPooling2D)  (None, 12, 20, 128)       0         \n",
      "                                                                 \n",
      " block3_conv1 (Conv2D)       (None, 12, 20, 256)       295168    \n",
      "                                                                 \n",
      " block3_conv2 (Conv2D)       (None, 12, 20, 256)       590080    \n",
      "                                                                 \n",
      " block3_conv3 (Conv2D)       (None, 12, 20, 256)       590080    \n",
      "                                                                 \n",
      " block3_conv4 (Conv2D)       (None, 12, 20, 256)       590080    \n",
      "                                                                 \n",
      " block3_pool (MaxPooling2D)  (None, 6, 10, 256)        0         \n",
      "                                                                 \n",
      " block4_conv1 (Conv2D)       (None, 6, 10, 512)        1180160   \n",
      "                                                                 \n",
      " block4_conv2 (Conv2D)       (None, 6, 10, 512)        2359808   \n",
      "                                                                 \n",
      " block4_conv3 (Conv2D)       (None, 6, 10, 512)        2359808   \n",
      "                                                                 \n",
      " block4_conv4 (Conv2D)       (None, 6, 10, 512)        2359808   \n",
      "                                                                 \n",
      " block4_pool (MaxPooling2D)  (None, 3, 5, 512)         0         \n",
      "                                                                 \n",
      " block5_conv1 (Conv2D)       (None, 3, 5, 512)         2359808   \n",
      "                                                                 \n",
      " block5_conv2 (Conv2D)       (None, 3, 5, 512)         2359808   \n",
      "                                                                 \n",
      " block5_conv3 (Conv2D)       (None, 3, 5, 512)         2359808   \n",
      "                                                                 \n",
      " block5_conv4 (Conv2D)       (None, 3, 5, 512)         2359808   \n",
      "                                                                 \n",
      " block5_pool (MaxPooling2D)  (None, 1, 2, 512)         0         \n",
      "                                                                 \n",
      " flatten (Flatten)           (None, 1024)              0         \n",
      "                                                                 \n",
      " dense (Dense)               (None, 7)                 7175      \n",
      "                                                                 \n",
      "=================================================================\n",
      "Total params: 20,031,559\n",
      "Trainable params: 7,175\n",
      "Non-trainable params: 20,024,384\n",
      "_________________________________________________________________\n"
     ]
    }
   ],
   "source": [
    "model.summary()\n"
   ]
  },
  {
   "cell_type": "code",
   "execution_count": 21,
   "id": "ae137835",
   "metadata": {},
   "outputs": [],
   "source": [
    "model.compile(\n",
    "  tf.keras.optimizers.Adam(learning_rate=1e-3),\n",
    "  loss='sparse_categorical_crossentropy',\n",
    "  metrics=['accuracy']\n",
    ")"
   ]
  },
  {
   "cell_type": "code",
   "execution_count": 22,
   "id": "c60bb1a4",
   "metadata": {},
   "outputs": [],
   "source": [
    "from tensorflow.keras.callbacks import EarlyStopping\n",
    "early_stop=EarlyStopping(monitor='val_loss',mode='min',verbose=1,patience=4)"
   ]
  },
  {
   "cell_type": "code",
   "execution_count": 23,
   "id": "b48f7312",
   "metadata": {},
   "outputs": [
    {
     "name": "stdout",
     "output_type": "stream",
     "text": [
      "Epoch 1/50\n",
      "13/13 [==============================] - 3s 83ms/step - loss: 1.9676 - accuracy: 0.3116 - val_loss: 1.7740 - val_accuracy: 0.3191\n",
      "Epoch 2/50\n",
      "13/13 [==============================] - 0s 37ms/step - loss: 1.6738 - accuracy: 0.4291 - val_loss: 1.6167 - val_accuracy: 0.4894\n",
      "Epoch 3/50\n",
      "13/13 [==============================] - 0s 36ms/step - loss: 1.5066 - accuracy: 0.5172 - val_loss: 1.4916 - val_accuracy: 0.5426\n",
      "Epoch 4/50\n",
      "13/13 [==============================] - 0s 36ms/step - loss: 1.3947 - accuracy: 0.5709 - val_loss: 1.3964 - val_accuracy: 0.6170\n",
      "Epoch 5/50\n",
      "13/13 [==============================] - 0s 36ms/step - loss: 1.3026 - accuracy: 0.6054 - val_loss: 1.3184 - val_accuracy: 0.6383\n",
      "Epoch 6/50\n",
      "13/13 [==============================] - 0s 36ms/step - loss: 1.2311 - accuracy: 0.6322 - val_loss: 1.2554 - val_accuracy: 0.6596\n",
      "Epoch 7/50\n",
      "13/13 [==============================] - 0s 36ms/step - loss: 1.1660 - accuracy: 0.6462 - val_loss: 1.2055 - val_accuracy: 0.6702\n",
      "Epoch 8/50\n",
      "13/13 [==============================] - 0s 36ms/step - loss: 1.1097 - accuracy: 0.6628 - val_loss: 1.1560 - val_accuracy: 0.7021\n",
      "Epoch 9/50\n",
      "13/13 [==============================] - 0s 36ms/step - loss: 1.0642 - accuracy: 0.6731 - val_loss: 1.1167 - val_accuracy: 0.7021\n",
      "Epoch 10/50\n",
      "13/13 [==============================] - 0s 37ms/step - loss: 1.0219 - accuracy: 0.6858 - val_loss: 1.0844 - val_accuracy: 0.7128\n",
      "Epoch 11/50\n",
      "13/13 [==============================] - 0s 36ms/step - loss: 0.9874 - accuracy: 0.7088 - val_loss: 1.0533 - val_accuracy: 0.7021\n",
      "Epoch 12/50\n",
      "13/13 [==============================] - 0s 36ms/step - loss: 0.9522 - accuracy: 0.7241 - val_loss: 1.0262 - val_accuracy: 0.7234\n",
      "Epoch 13/50\n",
      "13/13 [==============================] - 0s 36ms/step - loss: 0.9204 - accuracy: 0.7280 - val_loss: 1.0001 - val_accuracy: 0.7234\n",
      "Epoch 14/50\n",
      "13/13 [==============================] - 0s 37ms/step - loss: 0.8937 - accuracy: 0.7458 - val_loss: 0.9797 - val_accuracy: 0.7447\n",
      "Epoch 15/50\n",
      "13/13 [==============================] - 0s 36ms/step - loss: 0.8658 - accuracy: 0.7535 - val_loss: 0.9564 - val_accuracy: 0.7340\n",
      "Epoch 16/50\n",
      "13/13 [==============================] - 1s 40ms/step - loss: 0.8426 - accuracy: 0.7561 - val_loss: 0.9416 - val_accuracy: 0.7447\n",
      "Epoch 17/50\n",
      "13/13 [==============================] - 0s 36ms/step - loss: 0.8200 - accuracy: 0.7765 - val_loss: 0.9205 - val_accuracy: 0.7340\n",
      "Epoch 18/50\n",
      "13/13 [==============================] - 0s 36ms/step - loss: 0.8055 - accuracy: 0.7535 - val_loss: 0.9050 - val_accuracy: 0.7447\n",
      "Epoch 19/50\n",
      "13/13 [==============================] - 0s 36ms/step - loss: 0.7805 - accuracy: 0.7854 - val_loss: 0.8933 - val_accuracy: 0.7447\n",
      "Epoch 20/50\n",
      "13/13 [==============================] - 0s 36ms/step - loss: 0.7616 - accuracy: 0.7893 - val_loss: 0.8774 - val_accuracy: 0.7340\n",
      "Epoch 21/50\n",
      "13/13 [==============================] - 0s 36ms/step - loss: 0.7429 - accuracy: 0.8148 - val_loss: 0.8596 - val_accuracy: 0.7340\n",
      "Epoch 22/50\n",
      "13/13 [==============================] - 0s 37ms/step - loss: 0.7251 - accuracy: 0.8008 - val_loss: 0.8479 - val_accuracy: 0.7340\n",
      "Epoch 23/50\n",
      "13/13 [==============================] - 0s 37ms/step - loss: 0.7105 - accuracy: 0.8135 - val_loss: 0.8426 - val_accuracy: 0.7660\n",
      "Epoch 24/50\n",
      "13/13 [==============================] - 0s 36ms/step - loss: 0.6949 - accuracy: 0.8174 - val_loss: 0.8233 - val_accuracy: 0.7340\n",
      "Epoch 25/50\n",
      "13/13 [==============================] - 0s 36ms/step - loss: 0.6804 - accuracy: 0.8212 - val_loss: 0.8126 - val_accuracy: 0.7447\n",
      "Epoch 26/50\n",
      "13/13 [==============================] - 0s 36ms/step - loss: 0.6660 - accuracy: 0.8289 - val_loss: 0.8021 - val_accuracy: 0.7447\n",
      "Epoch 27/50\n",
      "13/13 [==============================] - 0s 36ms/step - loss: 0.6534 - accuracy: 0.8212 - val_loss: 0.7911 - val_accuracy: 0.7660\n",
      "Epoch 28/50\n",
      "13/13 [==============================] - 0s 36ms/step - loss: 0.6399 - accuracy: 0.8352 - val_loss: 0.7868 - val_accuracy: 0.7766\n",
      "Epoch 29/50\n",
      "13/13 [==============================] - 0s 36ms/step - loss: 0.6299 - accuracy: 0.8314 - val_loss: 0.7719 - val_accuracy: 0.7553\n",
      "Epoch 30/50\n",
      "13/13 [==============================] - 0s 36ms/step - loss: 0.6154 - accuracy: 0.8391 - val_loss: 0.7682 - val_accuracy: 0.7766\n",
      "Epoch 31/50\n",
      "13/13 [==============================] - 0s 35ms/step - loss: 0.6050 - accuracy: 0.8429 - val_loss: 0.7572 - val_accuracy: 0.7553\n",
      "Epoch 32/50\n",
      "13/13 [==============================] - 0s 37ms/step - loss: 0.5967 - accuracy: 0.8659 - val_loss: 0.7494 - val_accuracy: 0.7766\n",
      "Epoch 33/50\n",
      "13/13 [==============================] - 0s 38ms/step - loss: 0.5865 - accuracy: 0.8621 - val_loss: 0.7412 - val_accuracy: 0.7660\n",
      "Epoch 34/50\n",
      "13/13 [==============================] - 0s 36ms/step - loss: 0.5735 - accuracy: 0.8621 - val_loss: 0.7328 - val_accuracy: 0.7766\n",
      "Epoch 35/50\n",
      "13/13 [==============================] - 0s 37ms/step - loss: 0.5665 - accuracy: 0.8685 - val_loss: 0.7253 - val_accuracy: 0.7872\n",
      "Epoch 36/50\n",
      "13/13 [==============================] - 0s 36ms/step - loss: 0.5542 - accuracy: 0.8672 - val_loss: 0.7182 - val_accuracy: 0.7872\n",
      "Epoch 37/50\n",
      "13/13 [==============================] - 0s 36ms/step - loss: 0.5493 - accuracy: 0.8799 - val_loss: 0.7059 - val_accuracy: 0.7872\n",
      "Epoch 38/50\n",
      "13/13 [==============================] - 0s 38ms/step - loss: 0.5375 - accuracy: 0.8761 - val_loss: 0.7041 - val_accuracy: 0.7872\n",
      "Epoch 39/50\n",
      "13/13 [==============================] - 0s 36ms/step - loss: 0.5296 - accuracy: 0.8876 - val_loss: 0.6970 - val_accuracy: 0.7872\n",
      "Epoch 40/50\n",
      "13/13 [==============================] - 0s 37ms/step - loss: 0.5234 - accuracy: 0.8748 - val_loss: 0.6867 - val_accuracy: 0.7872\n",
      "Epoch 41/50\n",
      "13/13 [==============================] - 0s 37ms/step - loss: 0.5125 - accuracy: 0.8889 - val_loss: 0.6786 - val_accuracy: 0.7872\n",
      "Epoch 42/50\n",
      "13/13 [==============================] - 0s 37ms/step - loss: 0.5052 - accuracy: 0.8889 - val_loss: 0.6758 - val_accuracy: 0.7872\n",
      "Epoch 43/50\n",
      "13/13 [==============================] - 0s 36ms/step - loss: 0.4999 - accuracy: 0.8953 - val_loss: 0.6655 - val_accuracy: 0.7979\n",
      "Epoch 44/50\n",
      "13/13 [==============================] - 0s 37ms/step - loss: 0.4937 - accuracy: 0.8927 - val_loss: 0.6650 - val_accuracy: 0.7979\n",
      "Epoch 45/50\n",
      "13/13 [==============================] - 0s 36ms/step - loss: 0.4840 - accuracy: 0.9004 - val_loss: 0.6510 - val_accuracy: 0.7979\n",
      "Epoch 46/50\n",
      "13/13 [==============================] - 0s 37ms/step - loss: 0.4754 - accuracy: 0.8978 - val_loss: 0.6455 - val_accuracy: 0.7979\n",
      "Epoch 47/50\n",
      "13/13 [==============================] - 0s 36ms/step - loss: 0.4697 - accuracy: 0.9042 - val_loss: 0.6367 - val_accuracy: 0.7872\n",
      "Epoch 48/50\n",
      "13/13 [==============================] - 0s 36ms/step - loss: 0.4650 - accuracy: 0.9106 - val_loss: 0.6300 - val_accuracy: 0.7979\n",
      "Epoch 49/50\n",
      "13/13 [==============================] - 0s 36ms/step - loss: 0.4572 - accuracy: 0.9042 - val_loss: 0.6312 - val_accuracy: 0.7979\n",
      "Epoch 50/50\n",
      "13/13 [==============================] - 0s 36ms/step - loss: 0.4501 - accuracy: 0.9183 - val_loss: 0.6210 - val_accuracy: 0.7979\n"
     ]
    }
   ],
   "source": [
    "history = model.fit(\n",
    "  train_x,\n",
    "  train_y,\n",
    "  validation_data=(val_x,val_y),\n",
    "  epochs=50,\n",
    "  callbacks=[early_stop],\n",
    "  batch_size=64,shuffle=True)"
   ]
  },
  {
   "cell_type": "code",
   "execution_count": 24,
   "id": "039b64ef",
   "metadata": {},
   "outputs": [],
   "source": [
    "from sklearn.metrics import accuracy_score,classification_report,confusion_matrix\n",
    "import numpy as np"
   ]
  },
  {
   "cell_type": "code",
   "execution_count": 25,
   "id": "c277e10c",
   "metadata": {},
   "outputs": [
    {
     "name": "stdout",
     "output_type": "stream",
     "text": [
      "Requirement already satisfied: sklearn in c:\\users\\giorg\\anaconda3\\envs\\tensorflow-gpu\\lib\\site-packages (0.0)\n",
      "Requirement already satisfied: scikit-learn in c:\\users\\giorg\\anaconda3\\envs\\tensorflow-gpu\\lib\\site-packages (from sklearn) (1.0.2)\n",
      "Requirement already satisfied: threadpoolctl>=2.0.0 in c:\\users\\giorg\\anaconda3\\envs\\tensorflow-gpu\\lib\\site-packages (from scikit-learn->sklearn) (3.1.0)\n",
      "Requirement already satisfied: scipy>=1.1.0 in c:\\users\\giorg\\anaconda3\\envs\\tensorflow-gpu\\lib\\site-packages (from scikit-learn->sklearn) (1.8.0)\n",
      "Requirement already satisfied: joblib>=0.11 in c:\\users\\giorg\\anaconda3\\envs\\tensorflow-gpu\\lib\\site-packages (from scikit-learn->sklearn) (1.1.0)\n",
      "Requirement already satisfied: numpy>=1.14.6 in c:\\users\\giorg\\anaconda3\\envs\\tensorflow-gpu\\lib\\site-packages (from scikit-learn->sklearn) (1.21.5)\n",
      "Note: you may need to restart the kernel to use updated packages.\n"
     ]
    }
   ],
   "source": [
    "pip install sklearn "
   ]
  },
  {
   "cell_type": "code",
   "execution_count": null,
   "id": "d8ce846e",
   "metadata": {},
   "outputs": [],
   "source": []
  },
  {
   "cell_type": "code",
   "execution_count": 26,
   "id": "bdf4f48f",
   "metadata": {},
   "outputs": [],
   "source": [
    "y_pred=model.predict(test_x)\n",
    "y_pred=np.argmax(y_pred,axis=1)"
   ]
  },
  {
   "cell_type": "code",
   "execution_count": 27,
   "id": "0fe5c6fa",
   "metadata": {},
   "outputs": [
    {
     "name": "stdout",
     "output_type": "stream",
     "text": [
      "              precision    recall  f1-score   support\n",
      "\n",
      "           0       0.79      0.85      0.81        13\n",
      "           1       0.67      1.00      0.80         4\n",
      "           2       0.84      0.89      0.86        18\n",
      "           3       0.88      1.00      0.93         7\n",
      "           4       1.00      0.85      0.92        26\n",
      "           5       0.78      0.88      0.82         8\n",
      "           6       1.00      0.93      0.96        28\n",
      "\n",
      "    accuracy                           0.89       104\n",
      "   macro avg       0.85      0.91      0.87       104\n",
      "weighted avg       0.91      0.89      0.90       104\n",
      "\n"
     ]
    }
   ],
   "source": [
    "print(classification_report(y_pred,test_y,zero_division=0))\n"
   ]
  },
  {
   "cell_type": "code",
   "execution_count": 28,
   "id": "92429bc7",
   "metadata": {},
   "outputs": [],
   "source": [
    "confusion_matrix_=confusion_matrix(y_pred,test_y)\n"
   ]
  },
  {
   "cell_type": "code",
   "execution_count": 29,
   "id": "56707810",
   "metadata": {},
   "outputs": [
    {
     "data": {
      "text/plain": [
       "array([[11,  0,  2,  0,  0,  0,  0],\n",
       "       [ 0,  4,  0,  0,  0,  0,  0],\n",
       "       [ 2,  0, 16,  0,  0,  0,  0],\n",
       "       [ 0,  0,  0,  7,  0,  0,  0],\n",
       "       [ 0,  2,  1,  0, 22,  1,  0],\n",
       "       [ 1,  0,  0,  0,  0,  7,  0],\n",
       "       [ 0,  0,  0,  1,  0,  1, 26]], dtype=int64)"
      ]
     },
     "execution_count": 29,
     "metadata": {},
     "output_type": "execute_result"
    }
   ],
   "source": [
    "confusion_matrix_"
   ]
  },
  {
   "cell_type": "code",
   "execution_count": 30,
   "id": "b73a90cd",
   "metadata": {},
   "outputs": [],
   "source": [
    "import seaborn as sb\n",
    "from matplotlib.colors import LogNorm, PowerNorm\n"
   ]
  },
  {
   "cell_type": "code",
   "execution_count": 31,
   "id": "fbf2fd12",
   "metadata": {},
   "outputs": [
    {
     "name": "stdout",
     "output_type": "stream",
     "text": [
      "Confusion Matrix\n"
     ]
    },
    {
     "data": {
      "image/png": "[encoded data removed]",
      "text/plain": [
       "<Figure size 1080x720 with 2 Axes>"
      ]
     },
     "metadata": {
      "needs_background": "light"
     },
     "output_type": "display_data"
    }
   ],
   "source": [
    "labels = ['Angry', 'Disgust', 'Fear', 'Happy', 'Neutral', 'Sad','Surprise']\n",
    "positions = list(range(len(labels)))\n",
    "positions = [x+0.5 for x in positions]\n",
    "\n",
    "print(f'Confusion Matrix')\n",
    "fig, ax = plt.subplots(figsize=(15, 10))\n",
    "# plot heatmap\n",
    "sb.heatmap(confusion_matrix_,\n",
    "           cmap='RdYlGn',\n",
    "           annot=True,\n",
    "           fmt=\"1d\",\n",
    "           linewidth=0.3,\n",
    "           cbar_kws={\"shrink\": .8},\n",
    "           norm=PowerNorm(vmin=confusion_matrix_.min().min(),\n",
    "                          vmax=confusion_matrix_.max().max(),\n",
    "                          gamma=0.35)\n",
    "          )\n",
    "\n",
    "plt.xlabel('Real')\n",
    "ax.set_xticks(positions, labels, rotation = 90)\n",
    "plt.ylabel('Predicted')\n",
    "ax.set_yticks(positions, labels, rotation = 0)\n",
    "plt.show()"
   ]
  }
 ],
 "metadata": {
  "kernelspec": {
   "display_name": "Python 3 (ipykernel)",
   "language": "python",
   "name": "python3"
  },
  "language_info": {
   "codemirror_mode": {
    "name": "ipython",
    "version": 3
   },
   "file_extension": ".py",
   "mimetype": "text/x-python",
   "name": "python",
   "nbconvert_exporter": "python",
   "pygments_lexer": "ipython3",
   "version": "3.8.13"
  }
 },
 "nbformat": 4,
 "nbformat_minor": 5
}
